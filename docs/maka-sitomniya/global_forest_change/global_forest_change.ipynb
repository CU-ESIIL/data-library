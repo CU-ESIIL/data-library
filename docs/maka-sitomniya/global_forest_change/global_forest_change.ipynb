{
 "cells": [
  {
   "cell_type": "markdown",
   "id": "378b7c51-ee3e-406d-9920-9d80fb8d38d4",
   "metadata": {},
   "source": [
    "# Global Forest Change\n",
    "\n",
    "### Overview \n",
    "Global Forest Change is a dataset focused on forest cover change, loss, and gain using Landsat Data.\n",
    "\n",
    "**Source:** <u>https://storage.googleapis.com/earthenginepartners-hansen/GFC-2024-v1.12/download.html</u>\n",
    "\n",
    "**Notebook Author:** Cassie Buhler\n",
    "\n",
    "### Files\n",
    "To avoid downloading large files directly to our computers, we can stream the data using the files' URLs. There are the 6 files for the granule (top-left corner at 50N, 110W) that includes the Black Hills region. \n",
    "\n",
    " **Tree canopy cover for year 2000** (`treecover2000`):\n",
    "- Tree cover in the year 2000, defined as canopy closure for all vegetation taller than 5m in height. Encoded as a percentage per output grid cell, in the range 0-100.\n",
    "\n",
    "**Global forest cover gain 2000-2012** (`gain`):\n",
    "- Forest gain during the period 2000-2012, defined as the inverse of loss, or a non-forest to forest change entirely within the study period. Encoded as either 1 (gain) or 0 (no gain).\n",
    "      \n",
    "**Year of gross forest cover loss event** (`lossyear`):\n",
    "- Forest loss during the period 2000-2024, defined as a stand-replacement disturbance, or a change from a forest to non-forest state. Encoded as either 0 (no loss) or else a value in the range 1-20, representing loss detected primarily in the year 2001-2024, respectively.\n",
    "\n",
    "**Data mask** (`datamask`): \n",
    "- Three values representing areas of no data (0), mapped land surface (1), and persistent water bodies (2) based on 2000-2012.\n",
    "  \n",
    "**Circa year 2000 Landsat 7 cloud-free image composite** (`first`):\n",
    "- Reference multispectral imagery from the first available year, typically 2000. If no cloud-free observations were available for year 2000, imagery was taken from the closest year with cloud-free data, within the range 1999-2012.\n",
    "\n",
    "**Circa year 2024 Landsat cloud-free image composite** (`last`): \n",
    "- Reference multispectral imagery from the last available year, typically 2024. If no cloud-free observations were available for year 2024, imagery was taken from the closest year with cloud-free data."
   ]
  },
  {
   "cell_type": "code",
   "execution_count": null,
   "id": "00ca1bad-f5b2-4ecd-99f2-2404924c1a24",
   "metadata": {},
   "outputs": [],
   "source": [
    "#data urls\n",
    "treecover2000_url = 'https://storage.googleapis.com/earthenginepartners-hansen/GFC-2024-v1.12/Hansen_GFC-2024-v1.12_treecover2000_50N_110W.tif'\n",
    "gain_url = 'https://storage.googleapis.com/earthenginepartners-hansen/GFC-2024-v1.12/Hansen_GFC-2024-v1.12_gain_50N_110W.tif'\n",
    "lossyear_url = 'https://storage.googleapis.com/earthenginepartners-hansen/GFC-2024-v1.12/Hansen_GFC-2024-v1.12_lossyear_50N_110W.tif'\n",
    "datamask_url = 'https://storage.googleapis.com/earthenginepartners-hansen/GFC-2024-v1.12/Hansen_GFC-2024-v1.12_datamask_50N_110W.tif'\n",
    "first_url = 'https://storage.googleapis.com/earthenginepartners-hansen/GFC-2024-v1.12/Hansen_GFC-2024-v1.12_first_50N_110W.tif'\n",
    "last_url = 'https://storage.googleapis.com/earthenginepartners-hansen/GFC-2024-v1.12/Hansen_GFC-2024-v1.12_last_50N_110W.tif'"
   ]
  },
  {
   "cell_type": "markdown",
   "id": "c2c99234-5534-4dbc-8a3f-964e27d0b372",
   "metadata": {},
   "source": [
    "## Inspect spatial projection and extent\n",
    "Because the Earth is curved, we can't display its surface on a flat map without using a **projection**. A projection transforms the 3D surface of the Earth into a 2D map, and the **coordination reference system (CRS)** of the data will tell us what projection is being used. \n",
    "\n",
    "Additionally, it's always good to check the **spatial extent**, as it tells us the area our data covers. "
   ]
  },
  {
   "cell_type": "code",
   "execution_count": null,
   "id": "9ea32503-9149-4928-a44b-00e92c96bc64",
   "metadata": {},
   "outputs": [],
   "source": [
    "import rioxarray as rxr\n",
    "\n",
    "# read in raster data \n",
    "treecover2000 = rxr.open_rasterio(treecover2000_url, masked = True)\n",
    "gain = rxr.open_rasterio(gain_url, masked = True)\n",
    "lossyear = rxr.open_rasterio(lossyear_url, masked = True)\n",
    "datamask = rxr.open_rasterio(datamask_url, masked = True)\n",
    "first = rxr.open_rasterio(first_url, masked = True)\n",
    "last = rxr.open_rasterio(last_url, masked = True)\n",
    "\n",
    "# print out projection and spatial extent\n",
    "print(\"The CRS:\", treecover2000.rio.crs)\n",
    "print(\"Spatial extent:\", treecover2000.rio.bounds())"
   ]
  },
  {
   "cell_type": "markdown",
   "id": "60f9f596-49fa-4d45-afd1-1d353e154b26",
   "metadata": {},
   "source": [
    "## Crop and reproject data\n",
    "In this example, the data is currently in `EPSG:4326`, a coordinate system that represents locations using latitude and longitude in degrees. `EPSG:4326` is useful for global datasets, but the units (degrees) are not consistent in actual distances, particularly at higher latitudes. In our data cube, we will use `EPSG:32613` (which corresponds to UTM Zone 13N), a projection in meters that fully encompasses the **Black Hills**.\n",
    "\n",
    "In addition, the spatial extent of our data spans from:\n",
    "- Latitude: 40 degrees to 50 degrees\n",
    "- Longitude: -110 degrees to 100 degrees\n",
    "\n",
    "This bounding box covers a portion of Canada, Montana, North Dakota, South Dakota, Wyoming, Colorado, and Nebraska. To focus specifically on the Black Hills, we will crop the data to a smaller bounding box and reproject the data to `EPSG:32613`.\n",
    "\n",
    "The Black Hills bounding box in UTM 13:\n",
    "- Top: 4961634.142366057 m (`ymax`)\n",
    "- Bottom: 4791372.654461951 m (`ymin`)\n",
    "- Left: 522738.38883301965 m (`xmin`)\n",
    "- Right: 634142.3594250776 m (`xmax`)\n",
    "\n"
   ]
  },
  {
   "cell_type": "code",
   "execution_count": null,
   "id": "15c9db91-1156-407f-a908-141ac1dc1910",
   "metadata": {},
   "outputs": [],
   "source": [
    "# a function to clip and reproject our data\n",
    "def crop_and_reproject(data, crs = 'EPSG:32613'):\n",
    "    # black hills bounding box \n",
    "    ymax = 4961634.142366057\n",
    "    ymin = 4791372.654461951\n",
    "    xmin = 522738.38883301965\n",
    "    xmax = 634142.3594250776\n",
    "\n",
    "    # crop data to Black Hills \n",
    "    data = data.rio.clip_box(\n",
    "        minx=xmin,\n",
    "        miny=ymin,\n",
    "        maxx=xmax,\n",
    "        maxy=ymax,\n",
    "    crs=crs)\n",
    "\n",
    "    # reproject data to EPSG:32613 \n",
    "    data = data.rio.reproject(crs)\n",
    "    return data "
   ]
  },
  {
   "cell_type": "code",
   "execution_count": null,
   "id": "c38e543d-e638-496b-8c43-9a1abd2b2ff5",
   "metadata": {},
   "outputs": [],
   "source": [
    "# run the crop_and_reproject function on our rasters\n",
    "treecover2000 = crop_and_reproject(treecover2000)\n",
    "gain = crop_and_reproject(gain)\n",
    "lossyear = crop_and_reproject(lossyear)\n",
    "datamask = crop_and_reproject(datamask)\n",
    "first = crop_and_reproject(first)\n",
    "last = crop_and_reproject(last)"
   ]
  },
  {
   "cell_type": "markdown",
   "id": "26a61d11-4751-4588-a9df-0b1aeaf77dd3",
   "metadata": {},
   "source": [
    "## Data structure \n",
    "All raster files have X, Y, and band values.\n",
    "\n",
    "- X and Y give the pixel’s location (e.g., 40°N, 110°W).\n",
    "- A band holds the data value for that location.\n",
    "\n",
    "A single-band raster might show brightness or elevation. Multi-band rasters store different types of data in each band (e.g. red light, infrared, or temperature) allowing deeper analysis. \n",
    "\n",
    "In our example, all the files are single-banded except for `first` and `last`. We can see this by printing out the **shape** of each raster, where shape = (bands, X, Y)."
   ]
  },
  {
   "cell_type": "code",
   "execution_count": null,
   "id": "1091a44a-ee3b-4a6b-a133-c9b8b67789f6",
   "metadata": {},
   "outputs": [],
   "source": [
    "# 1 band, 7047 pixels wide, 4707 pixels tall \n",
    "print(\"treecover2000 shape:\", treecover2000.shape) \n",
    "print(\"gain shape:\", gain.shape) \n",
    "print(\"lossyear shape:\", lossyear.shape) \n",
    "print(\"datamask shape:\", datamask.shape)\n",
    "\n",
    " # 4 bands, 7047 pixes wide, 4707 pixels tall \n",
    "print(\"first shape:\", first.shape)\n",
    "print(\"last shape:\", last.shape) "
   ]
  },
  {
   "cell_type": "markdown",
   "id": "ffa5bdf6-c705-4373-931c-43a7aecd2a03",
   "metadata": {},
   "source": [
    "## Visualize Data\n",
    "\n",
    "Now that we processed our data and understand its structure, let's make some visualizations!"
   ]
  },
  {
   "cell_type": "code",
   "execution_count": null,
   "id": "ebe4af1e-98d2-441f-bcde-0e67f7356e43",
   "metadata": {},
   "outputs": [],
   "source": [
    "# python package used to plot and visualize our data\n",
    "import matplotlib.pyplot as plt"
   ]
  },
  {
   "cell_type": "markdown",
   "id": "dbc5ad7e-7c7c-41a1-aa13-c8b84f95974b",
   "metadata": {},
   "source": [
    "#### Normalized Difference Vegetation Index (NDVI): 2000 vs 2024\n",
    "\n",
    "NDVI is used to quantify vegetation greenness and is useful in understanding vegetation density and assessing changes in plant health.\n",
    "\n",
    "NDVI = (NIR - Red) / (NIR + Red)\n"
   ]
  },
  {
   "cell_type": "code",
   "execution_count": null,
   "id": "82244edd-ce5c-4d29-8545-7abea80aa54b",
   "metadata": {},
   "outputs": [],
   "source": [
    "# compute NDVI for first and last\n",
    "red_first = first.sel(band=1)\n",
    "nir_first = first.sel(band=2)\n",
    "ndvi_first = (nir_first - red_first) / (nir_first + red_first)\n",
    "\n",
    "red_last = last.sel(band=1)\n",
    "nir_last = last.sel(band=2)\n",
    "ndvi_last = (nir_last - red_last) / (nir_last + red_last)\n",
    "\n",
    "# make a figure of size 12x6 with 2 plots, side by side \n",
    "fig, axs = plt.subplots(1, 2, figsize=(12, 6), sharex=True, sharey=True)\n",
    "\n",
    "# turning off x/y labels \n",
    "for ax in axs:\n",
    "    ax.axis('off')\n",
    "\n",
    "# plotting NDVI for 2000\n",
    "ndvi_first.plot(ax=axs[0], vmin=0, vmax=1)\n",
    "axs[0].set_title(\"NDVI (2000)\")\n",
    "\n",
    "# plotting NDVI for 2024\n",
    "ndvi_last.plot(ax=axs[1], vmin=0, vmax=1)\n",
    "axs[1].set_title(\"NDVI (2024)\")\n",
    "\n",
    "plt.show()  #display the plot "
   ]
  },
  {
   "cell_type": "markdown",
   "id": "57425449-8645-496e-b129-3bc850230690",
   "metadata": {},
   "source": [
    "#### NDVI Change"
   ]
  },
  {
   "cell_type": "code",
   "execution_count": null,
   "id": "5c095a0f-93a2-48e2-ad22-f7d6862f6b32",
   "metadata": {},
   "outputs": [],
   "source": [
    "# NDVI change from 2000 to 2024\n",
    "ndvi_change = ndvi_last - ndvi_first\n",
    "\n",
    "fig, ax = plt.subplots(figsize=(5, 4))\n",
    "\n",
    "# plotting the difference \n",
    "ndvi_change.plot(ax=ax, cmap=\"RdYlGn\", vmin=-1, vmax=1, cbar_kwargs={'label': 'NDVI Change'})\n",
    "ax.set_title(\"NDVI Change (2024 - 2000)\")\n",
    "ax.axis('off') \n",
    "\n",
    "plt.show() "
   ]
  },
  {
   "cell_type": "markdown",
   "id": "ff44a0ce-0ff5-4e64-ac9e-e33d81d86dfa",
   "metadata": {},
   "source": [
    "#### Forest Loss Over Time"
   ]
  },
  {
   "cell_type": "code",
   "execution_count": null,
   "id": "a36361a8-e2d6-4599-a262-866a1d787f2d",
   "metadata": {
    "scrolled": true
   },
   "outputs": [],
   "source": [
    "f, ax = plt.subplots(figsize=(8, 5)) \n",
    "\n",
    "loss_year = lossyear.sel(band=1) # using only the 1st band\n",
    "loss_year = loss_year.where(loss_year > 0) # 0 is no loss, otherwise its the year of forest loss \n",
    "years = 2000 + loss_year # turning 23 -> 2023. \n",
    "\n",
    "# plotting forest loss, darker red -> forest loss is more recent \n",
    "im = years.plot(ax=ax, cmap=\"Reds\", cbar_kwargs={'label': 'Year of Loss'})\n",
    "ax.set_title(\"Year of Forest Loss (2001–2024)\")\n",
    "ax.axis('off') \n",
    "\n",
    "plt.show()"
   ]
  },
  {
   "cell_type": "markdown",
   "id": "52561199-ea14-4d62-938d-db25d8f080c8",
   "metadata": {},
   "source": [
    "#### Tree Cover Map in 2000\n"
   ]
  },
  {
   "cell_type": "code",
   "execution_count": null,
   "id": "569f1de8-7520-43a2-ba60-66d4e77049ac",
   "metadata": {
    "scrolled": true
   },
   "outputs": [],
   "source": [
    "f, ax = plt.subplots(figsize=(8, 5)) \n",
    "\n",
    "# plotting tree cover in green\n",
    "treecover2000.plot(cmap = \"Greens\",cbar_kwargs={'label': '% Canopy Cover'})\n",
    "ax.set_title('Tree Canopy Cover (2000), >= 5 Meters ')\n",
    "ax.axis('off') \n",
    "\n",
    "plt.show() "
   ]
  },
  {
   "cell_type": "code",
   "execution_count": null,
   "id": "d633c4ac-2b22-44fd-a346-45913846c52e",
   "metadata": {},
   "outputs": [],
   "source": [
    "# # compute NDVI for first and last\n",
    "# red_first = first.sel(band=1)\n",
    "# nir_first = first.sel(band=2)\n",
    "# ndvi_first = (nir_first - red_first) / (nir_first + red_first)\n",
    "\n",
    "# red_last = last.sel(band=1)\n",
    "# nir_last = last.sel(band=2)\n",
    "# ndvi_last = (nir_last - red_last) / (nir_last + red_last)\n",
    "\n",
    "# light_tan = \"#e0cd9f\"\n",
    "# # tan = '#ddbf77'\n",
    "# # turquoise = '#60afa6'\n",
    "# dark_green = '#32754e'\n",
    "# colors = [light_tan, dark_green]\n",
    "\n",
    "# from matplotlib.colors import LinearSegmentedColormap\n",
    "\n",
    "# custom_cmap = LinearSegmentedColormap.from_list(\"custom_palette\", colors, N = 100)\n",
    "\n",
    "# # make a figure of size 12x6 with 2 plots, side by side \n",
    "# fig, axs = plt.subplots(1, 2, figsize=(12, 6), sharex=True, sharey=True)\n",
    "\n",
    "# # turning off x/y labels \n",
    "# for ax in axs:\n",
    "#     ax.axis('off')\n",
    "\n",
    "# # plotting NDVI for 2000\n",
    "# ndvi_first.plot(ax=axs[0], vmin=0, vmax=1, cmap=custom_cmap)\n",
    "# axs[0].set_title(\"NDVI (2000)\")\n",
    "\n",
    "# # plotting NDVI for 2024\n",
    "# ndvi_last.plot(ax=axs[1], vmin=0, vmax=1, cmap=custom_cmap)\n",
    "# axs[1].set_title(\"NDVI (2024)\")\n",
    "\n",
    "# plt.show()  #display the plot "
   ]
  }
 ],
 "metadata": {
  "kernelspec": {
   "display_name": "Python 3 (ipykernel)",
   "language": "python",
   "name": "python3"
  },
  "language_info": {
   "codemirror_mode": {
    "name": "ipython",
    "version": 3
   },
   "file_extension": ".py",
   "mimetype": "text/x-python",
   "name": "python",
   "nbconvert_exporter": "python",
   "pygments_lexer": "ipython3",
   "version": "3.12.10"
  }
 },
 "nbformat": 4,
 "nbformat_minor": 5
}
