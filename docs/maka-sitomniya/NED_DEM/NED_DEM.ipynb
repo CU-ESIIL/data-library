{
 "cells": [
  {
   "cell_type": "markdown",
   "id": "1ab5b1fa-254f-4251-9e4c-0390bb661ad3",
   "metadata": {},
   "source": [
    "# USGS National Elevation Dataset (NED)\n",
    "\n",
    "### Overview\n",
    "DEMs are essential for watershed delineation, flow direction analysis, and terrain modeling.\n",
    "    \n",
    "**Source:** [<u>Link to data</u>](https://www.mrlc.gov/data?f%5B0%5D=category%3ALand%20Cover&f%5B1%5D=project_tax_term_term_parents_tax_term_name%3AAnnual%20NLCD&f%5B2%5D=year%3A2001&f%5B3%5D=year%3A2006&f%5B4%5D=year%3A2011&f%5B5%5D=year%3A2016&f%5B6%5D=year%3A2019&f%5B7%5D=year%3A2020&f%5B8%5D=year%3A2021&f%5B9%5D=year%3A2022&f%5B10%5D=year%3A2023)\n",
    "\n",
    "**Notebook Author:** Cassie Buhler"
   ]
  },
  {
   "cell_type": "code",
   "execution_count": null,
   "id": "53cf2fbc-afda-48e7-a510-61559fd60a5c",
   "metadata": {},
   "outputs": [],
   "source": []
  }
 ],
 "metadata": {
  "kernelspec": {
   "display_name": "Python 3 (ipykernel)",
   "language": "python",
   "name": "python3"
  },
  "language_info": {
   "codemirror_mode": {
    "name": "ipython",
    "version": 3
   },
   "file_extension": ".py",
   "mimetype": "text/x-python",
   "name": "python",
   "nbconvert_exporter": "python",
   "pygments_lexer": "ipython3",
   "version": "3.12.10"
  }
 },
 "nbformat": 4,
 "nbformat_minor": 5
}
